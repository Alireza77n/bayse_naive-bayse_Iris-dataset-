{
 "cells": [
  {
   "cell_type": "code",
   "execution_count": 251,
   "id": "752003d4",
   "metadata": {},
   "outputs": [],
   "source": [
    "import pandas as pd\n",
    "import numpy as np\n",
    "import matplotlib.pyplot as plt\n",
    "from scipy.stats import multivariate_normal\n",
    "from sklearn.preprocessing import StandardScaler  \n",
    "from sklearn.model_selection import train_test_split  \n",
    "from sklearn.metrics import confusion_matrix\n",
    "import seaborn as sns\n",
    "from sklearn import preprocessing\n",
    "from sklearn.model_selection import KFold\n",
    "import statistics\n",
    "from numpy.linalg import norm"
   ]
  },
  {
   "cell_type": "code",
   "execution_count": 252,
   "id": "2744887f",
   "metadata": {},
   "outputs": [],
   "source": [
    "Iris=pd.read_csv(r'C:\\Users\\PLUS\\Desktop\\Linkpy\\iris.data')"
   ]
  },
  {
   "cell_type": "code",
   "execution_count": 253,
   "id": "e0d6a5a8",
   "metadata": {},
   "outputs": [
    {
     "data": {
      "text/html": [
       "<div>\n",
       "<style scoped>\n",
       "    .dataframe tbody tr th:only-of-type {\n",
       "        vertical-align: middle;\n",
       "    }\n",
       "\n",
       "    .dataframe tbody tr th {\n",
       "        vertical-align: top;\n",
       "    }\n",
       "\n",
       "    .dataframe thead th {\n",
       "        text-align: right;\n",
       "    }\n",
       "</style>\n",
       "<table border=\"1\" class=\"dataframe\">\n",
       "  <thead>\n",
       "    <tr style=\"text-align: right;\">\n",
       "      <th></th>\n",
       "      <th>one</th>\n",
       "      <th>two</th>\n",
       "      <th>three</th>\n",
       "      <th>four</th>\n",
       "      <th>class</th>\n",
       "    </tr>\n",
       "  </thead>\n",
       "  <tbody>\n",
       "    <tr>\n",
       "      <th>0</th>\n",
       "      <td>5.1</td>\n",
       "      <td>3.5</td>\n",
       "      <td>1.4</td>\n",
       "      <td>0.2</td>\n",
       "      <td>Iris-setosa</td>\n",
       "    </tr>\n",
       "    <tr>\n",
       "      <th>1</th>\n",
       "      <td>4.9</td>\n",
       "      <td>3.0</td>\n",
       "      <td>1.4</td>\n",
       "      <td>0.2</td>\n",
       "      <td>Iris-setosa</td>\n",
       "    </tr>\n",
       "    <tr>\n",
       "      <th>2</th>\n",
       "      <td>4.7</td>\n",
       "      <td>3.2</td>\n",
       "      <td>1.3</td>\n",
       "      <td>0.2</td>\n",
       "      <td>Iris-setosa</td>\n",
       "    </tr>\n",
       "    <tr>\n",
       "      <th>3</th>\n",
       "      <td>4.6</td>\n",
       "      <td>3.1</td>\n",
       "      <td>1.5</td>\n",
       "      <td>0.2</td>\n",
       "      <td>Iris-setosa</td>\n",
       "    </tr>\n",
       "    <tr>\n",
       "      <th>4</th>\n",
       "      <td>5.0</td>\n",
       "      <td>3.6</td>\n",
       "      <td>1.4</td>\n",
       "      <td>0.2</td>\n",
       "      <td>Iris-setosa</td>\n",
       "    </tr>\n",
       "    <tr>\n",
       "      <th>...</th>\n",
       "      <td>...</td>\n",
       "      <td>...</td>\n",
       "      <td>...</td>\n",
       "      <td>...</td>\n",
       "      <td>...</td>\n",
       "    </tr>\n",
       "    <tr>\n",
       "      <th>145</th>\n",
       "      <td>6.7</td>\n",
       "      <td>3.0</td>\n",
       "      <td>5.2</td>\n",
       "      <td>2.3</td>\n",
       "      <td>Iris-virginica</td>\n",
       "    </tr>\n",
       "    <tr>\n",
       "      <th>146</th>\n",
       "      <td>6.3</td>\n",
       "      <td>2.5</td>\n",
       "      <td>5.0</td>\n",
       "      <td>1.9</td>\n",
       "      <td>Iris-virginica</td>\n",
       "    </tr>\n",
       "    <tr>\n",
       "      <th>147</th>\n",
       "      <td>6.5</td>\n",
       "      <td>3.0</td>\n",
       "      <td>5.2</td>\n",
       "      <td>2.0</td>\n",
       "      <td>Iris-virginica</td>\n",
       "    </tr>\n",
       "    <tr>\n",
       "      <th>148</th>\n",
       "      <td>6.2</td>\n",
       "      <td>3.4</td>\n",
       "      <td>5.4</td>\n",
       "      <td>2.3</td>\n",
       "      <td>Iris-virginica</td>\n",
       "    </tr>\n",
       "    <tr>\n",
       "      <th>149</th>\n",
       "      <td>5.9</td>\n",
       "      <td>3.0</td>\n",
       "      <td>5.1</td>\n",
       "      <td>1.8</td>\n",
       "      <td>Iris-virginica</td>\n",
       "    </tr>\n",
       "  </tbody>\n",
       "</table>\n",
       "<p>150 rows × 5 columns</p>\n",
       "</div>"
      ],
      "text/plain": [
       "     one  two  three  four           class\n",
       "0    5.1  3.5    1.4   0.2     Iris-setosa\n",
       "1    4.9  3.0    1.4   0.2     Iris-setosa\n",
       "2    4.7  3.2    1.3   0.2     Iris-setosa\n",
       "3    4.6  3.1    1.5   0.2     Iris-setosa\n",
       "4    5.0  3.6    1.4   0.2     Iris-setosa\n",
       "..   ...  ...    ...   ...             ...\n",
       "145  6.7  3.0    5.2   2.3  Iris-virginica\n",
       "146  6.3  2.5    5.0   1.9  Iris-virginica\n",
       "147  6.5  3.0    5.2   2.0  Iris-virginica\n",
       "148  6.2  3.4    5.4   2.3  Iris-virginica\n",
       "149  5.9  3.0    5.1   1.8  Iris-virginica\n",
       "\n",
       "[150 rows x 5 columns]"
      ]
     },
     "execution_count": 253,
     "metadata": {},
     "output_type": "execute_result"
    }
   ],
   "source": [
    "Iris.columns\n",
    "Iris"
   ]
  },
  {
   "cell_type": "code",
   "execution_count": 254,
   "id": "c3b83b2b",
   "metadata": {},
   "outputs": [
    {
     "data": {
      "text/plain": [
       "['Iris-setosa', 'Iris-versicolor', 'Iris-virginica']"
      ]
     },
     "execution_count": 254,
     "metadata": {},
     "output_type": "execute_result"
    }
   ],
   "source": [
    "X=Iris.iloc[:,0:4]\n",
    "Y=Iris.iloc[:,-1]\n",
    "list(Y.unique())"
   ]
  },
  {
   "cell_type": "code",
   "execution_count": 255,
   "id": "7dd86fe6",
   "metadata": {},
   "outputs": [],
   "source": [
    "sc = StandardScaler()  \n",
    "X = sc.fit_transform(X) \n",
    "x_train, x_test, y_train, y_test = train_test_split(X, Y, test_size = 0.3)\n",
    "X=pd.DataFrame(X)"
   ]
  },
  {
   "cell_type": "code",
   "execution_count": 256,
   "id": "54677085",
   "metadata": {},
   "outputs": [],
   "source": [
    "#sc = StandardScaler()  \n",
    "#x_train = sc.fit_transform(x_train)  \n",
    "#x_test = sc.transform(x_test) \n",
    "#len(x_train)"
   ]
  },
  {
   "cell_type": "code",
   "execution_count": 278,
   "id": "b9dc0874",
   "metadata": {},
   "outputs": [],
   "source": [
    "def parameter_Gaussian(x_train,y_train):\n",
    "    parameter={}\n",
    "    dict_class_number=dict(y_train.value_counts())\n",
    "    p_Iris_setosa    =dict_class_number['Iris-setosa']/(y_train.count())\n",
    "    p_Iris_versicolor=dict_class_number['Iris-versicolor']/(y_train.count())\n",
    "    p_Iris_virginica =dict_class_number['Iris-virginica']/(y_train.count())\n",
    "    \n",
    "    parameter['p_Iris_setosa']    =p_Iris_setosa\n",
    "    parameter['p_Iris_versicolor']=p_Iris_versicolor\n",
    "    parameter['p_Iris_virginica'] =p_Iris_virginica\n",
    "\n",
    "    \n",
    "    y_train=pd.DataFrame(y_train)\n",
    "    y_train.reset_index(inplace=True)\n",
    "    y_train.drop(columns='index',inplace=True)\n",
    "    x_train=pd.DataFrame(x_train)\n",
    "    x_train.reset_index(inplace=True)\n",
    "    x_train.drop(columns='index',inplace=True)\n",
    "    \n",
    "    y_Iris_setosa=y_train[y_train=='Iris-setosa']\n",
    "    y_Iris_setosa.dropna(inplace=True)\n",
    "    x_Iris_setosa=x_train.iloc[y_Iris_setosa.index,:]\n",
    "    \n",
    "    cov_Iris_setosa=x_Iris_setosa.cov()\n",
    "    x_Iris_setosa=x_Iris_setosa.values\n",
    "    mean_Iris_setosa=x_Iris_setosa.mean(0)\n",
    "    parameter['cov_Iris-setosa']=cov_Iris_setosa.values\n",
    "    parameter['mean_Iris_setosa']=mean_Iris_setosa\n",
    "\n",
    "    y_Iris_versicolor=y_train[y_train=='Iris-versicolor']\n",
    "    y_Iris_versicolor.dropna(inplace=True)\n",
    "    x_Iris_versicolor=x_train.iloc[y_Iris_versicolor.index,:]\n",
    "    \n",
    "    cov_Iris_versicolor=x_Iris_versicolor.cov()\n",
    "    x_Iris_versicolor=x_Iris_versicolor.values\n",
    "    mean_Iris_versicolor=x_Iris_versicolor.mean(0)\n",
    "    parameter['cov_Iris-versicolor']=cov_Iris_versicolor.values\n",
    "    parameter['mean_Iris_versicolor']=mean_Iris_versicolor\n",
    "    \n",
    "    y_Iris_virginica=y_train[y_train=='Iris-virginica']\n",
    "    y_Iris_virginica.dropna(inplace=True)\n",
    "    x_Iris_virginica=x_train.iloc[y_Iris_virginica.index,:]\n",
    "    \n",
    "    cov_Iris_virginica=x_Iris_virginica.cov()\n",
    "    x_Iris_virginica=x_Iris_virginica.values\n",
    "    mean_Iris_virginica=x_Iris_virginica.mean(0)\n",
    "    parameter['cov_Iris-virginica']=cov_Iris_virginica.values\n",
    "    parameter['mean_Iris_virginica']=mean_Iris_virginica\n",
    "    \n",
    "    return parameter"
   ]
  },
  {
   "cell_type": "code",
   "execution_count": 351,
   "id": "689ccaba",
   "metadata": {},
   "outputs": [],
   "source": [
    "s=parameter_Gaussian(x_train,y_train)\n"
   ]
  },
  {
   "cell_type": "code",
   "execution_count": 352,
   "id": "e97e22fe",
   "metadata": {},
   "outputs": [],
   "source": [
    "def accuracy_Gaussian(type_x,type_y,s):\n",
    "    max_class=[]\n",
    "    predict_true=0\n",
    "    y_predict=[]\n",
    "    type_y=type_y.values\n",
    "    con_row1=np.array([0,0,0])\n",
    "    I=0\n",
    "    con_row2=np.array([0,0,0])\n",
    "    j=0\n",
    "    con_row3=np.array([0,0,0])\n",
    "    k=0\n",
    "    for i in range(len(type_x)):\n",
    "\n",
    "        pdf_Iris_setosa    =multivariate_normal.pdf(type_x[i], mean=list(s['mean_Iris_setosa']), cov=s['cov_Iris-setosa'])*s['p_Iris_setosa']\n",
    "        max_class.append(pdf_Iris_setosa)\n",
    "        \n",
    "        pdf_Iris_versicolor=multivariate_normal.pdf(type_x[i], mean=list(s['mean_Iris_versicolor']), cov=s['cov_Iris-versicolor'])*s['p_Iris_versicolor']\n",
    "        max_class.append(pdf_Iris_versicolor)\n",
    "        pdf_Iris_virginica =multivariate_normal.pdf(type_x[i], mean=list(s['mean_Iris_virginica']), cov=s['cov_Iris-virginica'])*s['p_Iris_virginica']\n",
    "        max_class.append(pdf_Iris_virginica)\n",
    "        class_labale=np.argmax(max_class)\n",
    "        \n",
    "        if(class_labale==0):\n",
    "            con_row1=np.array(max_class)+con_row1\n",
    "            I=I+1\n",
    "            predict_class='Iris-setosa'\n",
    "        elif(class_labale==1) :\n",
    "            j=j+1\n",
    "            con_row2=np.array(max_class)+con_row2\n",
    "            predict_class='Iris-versicolor'\n",
    "        else:\n",
    "            con_row3=np.array(max_class)+con_row3\n",
    "            k=k+1\n",
    "            predict_class='Iris-virginica'\n",
    "        \n",
    "        y_predict.append(predict_class)\n",
    "        if (type_y[i]==predict_class):\n",
    "            predict_true=predict_true+1\n",
    "            \n",
    "        max_class=[]\n",
    "    accuracy=predict_true/type_x.shape[0]   \n",
    "    confidence_matrix=np.array([con_row1/I,con_row2/j,con_row3/k])\n",
    "    for i in range(3):\n",
    "        for j in range(3):\n",
    "            if (i!=j):\n",
    "                confidence_matrix[i][j]=confidence_matrix[i][i]-confidence_matrix[i][j]\n",
    "    return   accuracy,y_predict,confidence_matrix"
   ]
  },
  {
   "cell_type": "code",
   "execution_count": 353,
   "id": "7a9355e2",
   "metadata": {},
   "outputs": [],
   "source": [
    "def confusion_matrixx(type_y,y_predict):\n",
    "    Set=set()\n",
    "    Set.update(y_predict)\n",
    "    labels=[]\n",
    "    labels.extend(Set)\n",
    "    mat = confusion_matrix(type_y, y_predict)\n",
    "    #labels = y_predict.unique()\n",
    "    sns.heatmap(mat, square=True, annot=True, fmt='d', cbar=False, cmap='Blues',\n",
    "                xticklabels=labels, yticklabels=labels)\n",
    "\n",
    "    plt.xlabel('Predicted label')\n",
    "    plt.ylabel('Actual label')\n",
    "    plt.show()"
   ]
  },
  {
   "cell_type": "code",
   "execution_count": 354,
   "id": "04b55fbe",
   "metadata": {},
   "outputs": [
    {
     "data": {
      "text/plain": [
       "array([[0.60523617, 0.60523617, 0.60523617],\n",
       "       [0.25293079, 0.25293079, 0.25043753],\n",
       "       [0.09968918, 0.09626835, 0.09968918]])"
      ]
     },
     "execution_count": 354,
     "metadata": {},
     "output_type": "execute_result"
    }
   ],
   "source": [
    "accuracy_train,y_predict_train,confidence_matrix=accuracy_Gaussian(x_train,y_train,s)\n",
    "print('accuracy_train:',accuracy_train)\n",
    "print('confidence_matrix:',confidence_matrix)\n",
    "confidence_matrix"
   ]
  },
  {
   "cell_type": "code",
   "execution_count": 355,
   "id": "8984b3c1",
   "metadata": {},
   "outputs": [
    {
     "data": {
      "text/plain": [
       "array([[0.77261783, 0.77261783, 0.77261783],\n",
       "       [0.2349609 , 0.2349609 , 0.23484009],\n",
       "       [0.07400983, 0.07074075, 0.07400983]])"
      ]
     },
     "execution_count": 355,
     "metadata": {},
     "output_type": "execute_result"
    }
   ],
   "source": [
    "accuracy_test,y_predict_test,confidence_matrix=accuracy_Gaussian(x_test,y_test,s)\n",
    "#print('accuracy_test:',accuracy_test)\n",
    "#print('confidence_matrix:',confidence_matrix)\n",
    "confidence_matrix"
   ]
  },
  {
   "cell_type": "code",
   "execution_count": 322,
   "id": "b4c74c9e",
   "metadata": {},
   "outputs": [
    {
     "data": {
      "image/png": "[encoded data removed]",
      "text/plain": [
       "<Figure size 432x288 with 1 Axes>"
      ]
     },
     "metadata": {
      "needs_background": "light"
     },
     "output_type": "display_data"
    }
   ],
   "source": [
    "confusion_matrix_train=confusion_matrixx(y_train,y_predict_train)"
   ]
  },
  {
   "cell_type": "code",
   "execution_count": 323,
   "id": "1d079a40",
   "metadata": {},
   "outputs": [
    {
     "data": {
      "image/png": "[encoded data removed]",
      "text/plain": [
       "<Figure size 432x288 with 1 Axes>"
      ]
     },
     "metadata": {
      "needs_background": "light"
     },
     "output_type": "display_data"
    }
   ],
   "source": [
    "confusion_matrix_test=confusion_matrixx(y_test,y_predict_test)"
   ]
  },
  {
   "cell_type": "code",
   "execution_count": 338,
   "id": "f36e841f",
   "metadata": {},
   "outputs": [
    {
     "data": {
      "text/plain": [
       "<generator object _BaseKFold.split at 0x0000023C0153A120>"
      ]
     },
     "execution_count": 338,
     "metadata": {},
     "output_type": "execute_result"
    }
   ],
   "source": [
    "kf = KFold(n_splits=4)\n",
    "kf.split(X)"
   ]
  },
  {
   "cell_type": "code",
   "execution_count": 339,
   "id": "07ea3937",
   "metadata": {},
   "outputs": [
    {
     "name": "stdout",
     "output_type": "stream",
     "text": [
      "[[0.21964086 0.31877982 0.01399591 0.02412173]\n",
      " [0.31877982 0.80635386 0.02275392 0.05701476]\n",
      " [0.01399591 0.02275392 0.01266536 0.00591874]\n",
      " [0.02412173 0.05701476 0.00591874 0.02173738]]\n"
     ]
    },
    {
     "data": {
      "image/png": "[encoded data removed]",
      "text/plain": [
       "<Figure size 432x288 with 1 Axes>"
      ]
     },
     "metadata": {
      "needs_background": "light"
     },
     "output_type": "display_data"
    },
    {
     "data": {
      "image/png": "[encoded data removed]",
      "text/plain": [
       "<Figure size 432x288 with 1 Axes>"
      ]
     },
     "metadata": {
      "needs_background": "light"
     },
     "output_type": "display_data"
    },
    {
     "data": {
      "image/png": "[encoded data removed]",
      "text/plain": [
       "<Figure size 432x288 with 1 Axes>"
      ]
     },
     "metadata": {
      "needs_background": "light"
     },
     "output_type": "display_data"
    },
    {
     "data": {
      "image/png": "[encoded data removed]",
      "text/plain": [
       "<Figure size 432x288 with 1 Axes>"
      ]
     },
     "metadata": {
      "needs_background": "light"
     },
     "output_type": "display_data"
    },
    {
     "name": "stdout",
     "output_type": "stream",
     "text": [
      "average accuracy on training data: 0.9866268963337548\n",
      "average accuracy on test data: 0.9260312944523471\n",
      "confidence_matrix on training data: [array([[0.03351324, 0.03351324, 0.03351324],\n",
      "       [0.13875657, 0.13875657, 0.1375309 ],\n",
      "       [0.05334683, 0.05229757, 0.05334683]]), array([[0.28990347, 0.28990347, 0.28990347],\n",
      "       [0.05819074, 0.05819074, 0.05738068],\n",
      "       [0.05303704, 0.05260512, 0.05303704]]), array([[0.46473619, 0.46473619, 0.46473619],\n",
      "       [0.02614479, 0.02614479, 0.02574581],\n",
      "       [0.02598295, 0.02520579, 0.02598295]]), array([[0.46473619, 0.46473619, 0.46473619],\n",
      "       [0.13591782, 0.13591782, 0.13567815],\n",
      "       [0.00645728, 0.00643874, 0.00645728]])]\n",
      "confidence_matrix on test data: [array([[0.18684118, 0.18684118, 0.18684118],\n",
      "       [0.        , 0.        , 0.        ],\n",
      "       [0.        , 0.        , 0.        ]]), array([[0.2910151 , 0.2910151 , 0.2910151 ],\n",
      "       [0.0651796 , 0.0651796 , 0.06396916],\n",
      "       [0.00092763, 0.00087041, 0.00092763]]), array([[0.        , 0.        , 0.        ],\n",
      "       [0.1073451 , 0.1073451 , 0.10636378],\n",
      "       [0.03543209, 0.03522682, 0.03543209]]), array([[0.        , 0.        , 0.        ],\n",
      "       [0.00358258, 0.00358258, 0.00293107],\n",
      "       [0.02374605, 0.02303465, 0.02374605]])]\n"
     ]
    }
   ],
   "source": [
    "accuracy_train=[]\n",
    "accuracy_test= []\n",
    "y_predict_train=[]\n",
    "y_predict_test=[]\n",
    "confidence_matrix_train=[]\n",
    "confidence_matrix_test=[]\n",
    "print(s['cov_'+Y.unique()[0]])\n",
    "i=0\n",
    "for train,test in kf.split(X):\n",
    "    parameter=parameter_Gaussian(X.loc[train],Y.loc[train])\n",
    "    accuracy_tr,y_pre_tr,confidence_matrix=accuracy_Gaussian(X.loc[train].values,Y.loc[train],parameter)\n",
    "    confidence_matrix_train.append(confidence_matrix)\n",
    "    accuracy_train.append(accuracy_tr)\n",
    "    y_predict_train.append(y_pre_tr)\n",
    "    accuracy_te,y_pre_te,confidence_matrix=accuracy_Gaussian(X.loc[test].values,Y.loc[test],parameter)\n",
    "    y_predict_test.append(y_pre_te)\n",
    "    accuracy_test.append(accuracy_te)\n",
    "    confidence_matrix_test.append(confidence_matrix)\n",
    "    confusion_matrixx(Y.loc[test].values,y_predict_test[i])\n",
    "    i=i+1\n",
    "print('average accuracy on training data:',statistics.mean(accuracy_train))\n",
    "print('average accuracy on test data:',statistics.mean(accuracy_test))\n",
    "print('confidence_matrix on training data:',confidence_matrix_train)\n",
    "print('confidence_matrix on test data:',confidence_matrix_test)"
   ]
  },
  {
   "cell_type": "code",
   "execution_count": 346,
   "id": "4acfbb67",
   "metadata": {},
   "outputs": [
    {
     "name": "stdout",
     "output_type": "stream",
     "text": [
      "accuracy_train: 0.9619047619047619\n",
      "confidence_matrix: [[0.11076608 0.11076608 0.11076608]\n",
      " [0.04085696 0.04085696 0.04036044]\n",
      " [0.01259604 0.01210511 0.01259604]]\n",
      "accuracy_test: 0.9555555555555556\n",
      "confidence_matrix: [[0.17784518 0.17784518 0.17784518]\n",
      " [0.02130125 0.02130125 0.02118768]\n",
      " [0.01499344 0.01441081 0.01499344]]\n"
     ]
    },
    {
     "data": {
      "image/png": "[encoded data removed]",
      "text/plain": [
       "<Figure size 432x288 with 1 Axes>"
      ]
     },
     "metadata": {
      "needs_background": "light"
     },
     "output_type": "display_data"
    },
    {
     "data": {
      "image/png": "[encoded data removed]",
      "text/plain": [
       "<Figure size 432x288 with 1 Axes>"
      ]
     },
     "metadata": {
      "needs_background": "light"
     },
     "output_type": "display_data"
    },
    {
     "data": {
      "image/png": "[encoded data removed]",
      "text/plain": [
       "<Figure size 432x288 with 1 Axes>"
      ]
     },
     "metadata": {
      "needs_background": "light"
     },
     "output_type": "display_data"
    },
    {
     "data": {
      "image/png": "[encoded data removed]",
      "text/plain": [
       "<Figure size 432x288 with 1 Axes>"
      ]
     },
     "metadata": {
      "needs_background": "light"
     },
     "output_type": "display_data"
    },
    {
     "name": "stdout",
     "output_type": "stream",
     "text": [
      "average accuracy on training data: 0.9599597029077117\n",
      "average accuracy on test data: 0.9263869132290186\n",
      "confidence_matrix on training data: [array([[0.01572076, 0.01572076, 0.01572076],\n",
      "       [0.04961135, 0.04961135, 0.04882448],\n",
      "       [0.02405248, 0.02351995, 0.02405248]]), array([[0.17742496, 0.17742496, 0.17742496],\n",
      "       [0.01516841, 0.01516841, 0.01504538],\n",
      "       [0.02411908, 0.0236886 , 0.02411908]]), array([[0.29616325, 0.29616325, 0.29616325],\n",
      "       [0.01147546, 0.01147546, 0.01107799],\n",
      "       [0.01201322, 0.01164939, 0.01201322]]), array([[0.29616325, 0.29616325, 0.29616325],\n",
      "       [0.04836899, 0.04836899, 0.04825543],\n",
      "       [0.00193217, 0.00184315, 0.00193217]])]\n",
      "confidence_matrix on test data: [array([[0.12818414, 0.12818414, 0.12818414],\n",
      "       [0.        , 0.        , 0.        ],\n",
      "       [0.        , 0.        , 0.        ]]), array([[0.18449026, 0.18449026, 0.18449026],\n",
      "       [0.03052189, 0.03052189, 0.02991153],\n",
      "       [0.0011499 , 0.00095677, 0.0011499 ]]), array([[0.        , 0.        , 0.        ],\n",
      "       [0.03686998, 0.03686998, 0.03599656],\n",
      "       [0.01660729, 0.01646526, 0.01660729]]), array([[0.        , 0.        , 0.        ],\n",
      "       [0.00196759, 0.00196759, 0.00149925],\n",
      "       [0.0109665 , 0.0104838 , 0.0109665 ]])]\n"
     ]
    }
   ],
   "source": [
    "for i in range(len(Y.unique())):\n",
    "    \n",
    "    d = np.diag(s['cov_'+Y.unique()[i]])\n",
    "    s['cov_'+Y.unique()[i]]=d\n",
    "\n",
    "accuracy_train,y_predict_train,confidence_matrix=accuracy_Gaussian(x_train,y_train,s)\n",
    "print('accuracy_train:',accuracy_train )\n",
    "print('confidence_matrix:',confidence_matrix )\n",
    "accuracy_test,y_predict_test,confidence_matrix=accuracy_Gaussian(x_test,y_test,s)\n",
    "print('accuracy_test:',accuracy_test)\n",
    "print('confidence_matrix:',confidence_matrix )\n",
    "\n",
    "accuracy_train=[]\n",
    "accuracy_test= []\n",
    "y_predict_train=[]\n",
    "y_predict_test=[]\n",
    "confidence_matrix_train=[]\n",
    "confidence_matrix_test=[]\n",
    "\n",
    "i=0\n",
    "for train,test in kf.split(X):\n",
    "    parameter=parameter_Gaussian(X.loc[train],Y.loc[train])\n",
    "    for j in range(len(Y.unique())):\n",
    "        d = np.diag(parameter['cov_'+Y.unique()[j]])\n",
    "        parameter['cov_'+Y.unique()[j]]=d\n",
    "    accuracy_tr,y_pre_tr,confidence_matrix=accuracy_Gaussian(X.loc[train].values,Y.loc[train],parameter)\n",
    "    confidence_matrix_train.append(confidence_matrix)\n",
    "    accuracy_train.append(accuracy_tr)\n",
    "    y_predict_train.append(y_pre_tr)\n",
    "    accuracy_te,y_pre_te,confidence_matrix=accuracy_Gaussian(X.loc[test].values,Y.loc[test],parameter)\n",
    "    y_predict_test.append(y_pre_te)\n",
    "    accuracy_test.append(accuracy_te)\n",
    "    confidence_matrix_test.append(confidence_matrix)\n",
    "    confusion_matrixx(Y.loc[test].values,y_predict_test[i])\n",
    "    i=i+1\n",
    "print('average accuracy on training data:',statistics.mean(accuracy_train))\n",
    "print('average accuracy on test data:',statistics.mean(accuracy_test))\n",
    "print('confidence_matrix on training data:',confidence_matrix_train)\n",
    "print('confidence_matrix on test data:',confidence_matrix_test)"
   ]
  },
  {
   "cell_type": "code",
   "execution_count": 360,
   "id": "351c9cc1",
   "metadata": {},
   "outputs": [],
   "source": [
    "def parameter_Gaussian_naive_Bayes(x_train,y_train):\n",
    "    \n",
    "    parameter={}\n",
    "    dict_class_number=dict(y_train.value_counts())\n",
    "    p_Iris_setosa    =dict_class_number['Iris-setosa']/(y_train.count())\n",
    "    p_Iris_versicolor=dict_class_number['Iris-versicolor']/(y_train.count())\n",
    "    p_Iris_virginica =dict_class_number['Iris-virginica']/(y_train.count())\n",
    "    \n",
    "    parameter['p_Iris_setosa']    =p_Iris_setosa\n",
    "    parameter['p_Iris_versicolor']=p_Iris_versicolor\n",
    "    parameter['p_Iris_virginica'] =p_Iris_virginica\n",
    "\n",
    "    \n",
    "    y_train=pd.DataFrame(y_train)\n",
    "    y_train.reset_index(inplace=True)\n",
    "    y_train.drop(columns='index',inplace=True)\n",
    "    x_train=pd.DataFrame(x_train)\n",
    "    x_train.reset_index(inplace=True)\n",
    "    x_train.drop(columns='index',inplace=True)\n",
    "    \n",
    "    y_Iris_setosa=y_train[y_train=='Iris-setosa']\n",
    "    y_Iris_setosa.dropna(inplace=True)\n",
    "    x_Iris_setosa=x_train.iloc[y_Iris_setosa.index,:]\n",
    "    \n",
    "    x_Iris_setosa=x_Iris_setosa.values\n",
    "    mean_Iris_setosa=x_Iris_setosa.mean(0)\n",
    "    cov_Iris_setosa=[]\n",
    "    for j in range(4):\n",
    "        cov_Iris_setosa.append((1/(len(x_Iris_setosa)-1))*pow(norm(x_Iris_setosa[:,j]-mean_Iris_setosa[j]),2))\n",
    "        \n",
    "        \n",
    "        \n",
    "        \n",
    "    parameter['cov_Iris-setosa']=cov_Iris_setosa\n",
    "    parameter['mean_Iris_setosa']=mean_Iris_setosa\n",
    "\n",
    "    y_Iris_versicolor=y_train[y_train=='Iris-versicolor']\n",
    "    y_Iris_versicolor.dropna(inplace=True)\n",
    "    x_Iris_versicolor=x_train.iloc[y_Iris_versicolor.index,:]\n",
    "    \n",
    "    x_Iris_versicolor=x_Iris_versicolor.values\n",
    "    mean_Iris_versicolor=x_Iris_versicolor.mean(0)\n",
    "    cov_Iris_versicolor=[]\n",
    "    for j in range(4):\n",
    "        cov_Iris_versicolor.append((1/(len(x_Iris_versicolor)-1))*pow(norm(x_Iris_versicolor[:,j]-mean_Iris_versicolor[j]),2))\n",
    "        \n",
    "    parameter['mean_Iris_versicolor']=mean_Iris_versicolor\n",
    "    parameter['cov_Iris-versicolor']=cov_Iris_versicolor\n",
    "    \n",
    "    y_Iris_virginica=y_train[y_train=='Iris-virginica']\n",
    "    y_Iris_virginica.dropna(inplace=True)\n",
    "    x_Iris_virginica=x_train.iloc[y_Iris_virginica.index,:]\n",
    "    \n",
    "    x_Iris_virginica=x_Iris_virginica.values\n",
    "    mean_Iris_virginica=x_Iris_virginica.mean(0)\n",
    "    \n",
    "    cov_Iris_virginica=[]\n",
    "    for j in range(4):\n",
    "        cov_Iris_virginica.append((1/(len(x_Iris_virginica)-1))*pow(norm(x_Iris_virginica[:,j]-mean_Iris_virginica[j]),2))\n",
    "    parameter['cov_Iris-virginica']=cov_Iris_virginica\n",
    "    parameter['mean_Iris_virginica']=mean_Iris_virginica\n",
    "    \n",
    "    return parameter"
   ]
  },
  {
   "cell_type": "code",
   "execution_count": 361,
   "id": "6c67efbd",
   "metadata": {},
   "outputs": [],
   "source": [
    "s=parameter_Gaussian_naive_Bayes(x_train,y_train)"
   ]
  },
  {
   "cell_type": "code",
   "execution_count": 373,
   "id": "1bedbbed",
   "metadata": {},
   "outputs": [],
   "source": [
    "def accuracy_Gaussian_naive_Bayes(type_x,type_y,s):\n",
    "    max_class=[]\n",
    "    predict_true=0\n",
    "    y_predict=[]\n",
    "    type_y=type_y.values\n",
    "    con_row1=np.array([0,0,0])\n",
    "    I=0\n",
    "    con_row2=np.array([0,0,0])\n",
    "    J=0\n",
    "    con_row3=np.array([0,0,0])\n",
    "    k=0\n",
    "    for i in range(len(type_x)):\n",
    "        temp_pdf_Iris_setosa=1\n",
    "        temp_pdf_Iris_versicolor=1\n",
    "        temp_Iris_virginica=1\n",
    "        for  j in range(4):\n",
    "            pdf_Iris_setosa    =multivariate_normal.pdf(type_x[i][j], mean=s['mean_Iris_setosa'][j], cov=s['cov_Iris-setosa'][j])*s['p_Iris_setosa']\n",
    "            temp_pdf_Iris_setosa=pdf_Iris_setosa*temp_pdf_Iris_setosa\n",
    "            \n",
    "        max_class.append(temp_pdf_Iris_setosa*s['p_Iris_setosa'])\n",
    "        \n",
    "        for  j in range(4):\n",
    "            \n",
    "            pdf_Iris_versicolor    =multivariate_normal.pdf(type_x[i][j], mean=s['mean_Iris_versicolor'][j], cov=s['cov_Iris-versicolor'][j])\n",
    "            temp_pdf_Iris_versicolor=pdf_Iris_versicolor*temp_pdf_Iris_versicolor\n",
    "        max_class.append(temp_pdf_Iris_versicolor*s['p_Iris_versicolor'])\n",
    "        \n",
    "        for  j in range(4):\n",
    "            \n",
    "            pdf_Iris_virginica    =multivariate_normal.pdf(type_x[i][j], mean=s['mean_Iris_virginica'][j], cov=s['cov_Iris-virginica'][j])\n",
    "            temp_Iris_virginica=pdf_Iris_virginica*temp_Iris_virginica\n",
    "        max_class.append(temp_Iris_virginica*s['p_Iris_virginica'])\n",
    "        class_labale=np.argmax(max_class)\n",
    "        \n",
    "        if(class_labale==0):\n",
    "            con_row1=np.array(max_class)+con_row1\n",
    "            I=I+1\n",
    "            predict_class='Iris-setosa'\n",
    "        elif(class_labale==1) :\n",
    "            con_row2=np.array(max_class)+con_row2\n",
    "            \n",
    "            J=J+1\n",
    "            predict_class='Iris-versicolor'\n",
    "        else:\n",
    "            con_row3=np.array(max_class)+con_row3\n",
    "            k=k+1\n",
    "            predict_class='Iris-virginica'\n",
    "        \n",
    "        y_predict.append(predict_class)\n",
    "        if (type_y[i]==predict_class):\n",
    "            predict_true=predict_true+1\n",
    "            \n",
    "        max_class=[]\n",
    "    \n",
    "    confidence_matrix=np.array([con_row1/I,con_row2/J,con_row3/k])\n",
    "\n",
    "    for i in range(3):\n",
    "        for j in range(3):\n",
    "            if (i!=j):\n",
    "                confidence_matrix[i][j]=confidence_matrix[i][i]-confidence_matrix[i][j]\n",
    "                \n",
    "    accuracy=predict_true/type_x.shape[0]   \n",
    "        \n",
    "    return   accuracy,y_predict,confidence_matrix"
   ]
  },
  {
   "cell_type": "code",
   "execution_count": 376,
   "id": "6ca3c44a",
   "metadata": {},
   "outputs": [
    {
     "data": {
      "text/plain": [
       "array([[0.00343859, 0.00343859, 0.00343859],\n",
       "       [0.10999951, 0.10999951, 0.10866272],\n",
       "       [0.0400783 , 0.03851625, 0.0400783 ]])"
      ]
     },
     "execution_count": 376,
     "metadata": {},
     "output_type": "execute_result"
    }
   ],
   "source": [
    "accuracy_train,y_predict_train,confidence_matrix=accuracy_Gaussian_naive_Bayes(x_train,y_train,s)\n",
    "#print('accuracy_train:',accuracy_train)\n",
    "#print('confidence_matrix:',confidence_matrix)\n",
    "#confusion_matrix_train=confusion_matrixx(y_train,y_predict_train)\n",
    "confidence_matrix"
   ]
  },
  {
   "cell_type": "code",
   "execution_count": 375,
   "id": "ac72439c",
   "metadata": {},
   "outputs": [
    {
     "name": "stdout",
     "output_type": "stream",
     "text": [
      "accuracy_test: 0.9555555555555556\n",
      "confidence_matrix: [[0.00459308 0.00459308 0.00459308]\n",
      " [0.07373511 0.07373511 0.07334197]\n",
      " [0.04498033 0.04323244 0.04498033]]\n"
     ]
    },
    {
     "data": {
      "image/png": "[encoded data removed]",
      "text/plain": [
       "<Figure size 432x288 with 1 Axes>"
      ]
     },
     "metadata": {
      "needs_background": "light"
     },
     "output_type": "display_data"
    }
   ],
   "source": [
    "accuracy_test,y_predict_test,confidence_matrix=accuracy_Gaussian_naive_Bayes(x_test,y_test,s)\n",
    "print('accuracy_test:',accuracy_test)\n",
    "print('confidence_matrix:',confidence_matrix)\n",
    "confusion_matrix_train=confusion_matrixx(y_test,y_predict_test)"
   ]
  },
  {
   "cell_type": "code",
   "execution_count": 276,
   "id": "f9cd2436",
   "metadata": {},
   "outputs": [
    {
     "data": {
      "text/plain": [
       "<generator object _BaseKFold.split at 0x0000023C008D3200>"
      ]
     },
     "execution_count": 276,
     "metadata": {},
     "output_type": "execute_result"
    }
   ],
   "source": [
    "kf = KFold(n_splits=4)\n",
    "kf.split(X)"
   ]
  },
  {
   "cell_type": "code",
   "execution_count": 348,
   "id": "26d1b48e",
   "metadata": {},
   "outputs": [
    {
     "data": {
      "image/png": "[encoded data removed]",
      "text/plain": [
       "<Figure size 432x288 with 1 Axes>"
      ]
     },
     "metadata": {
      "needs_background": "light"
     },
     "output_type": "display_data"
    },
    {
     "data": {
      "image/png": "[encoded data removed]",
      "text/plain": [
       "<Figure size 432x288 with 1 Axes>"
      ]
     },
     "metadata": {
      "needs_background": "light"
     },
     "output_type": "display_data"
    },
    {
     "data": {
      "image/png": "[encoded data removed]",
      "text/plain": [
       "<Figure size 432x288 with 1 Axes>"
      ]
     },
     "metadata": {
      "needs_background": "light"
     },
     "output_type": "display_data"
    },
    {
     "data": {
      "image/png": "[encoded data removed]",
      "text/plain": [
       "<Figure size 432x288 with 1 Axes>"
      ]
     },
     "metadata": {
      "needs_background": "light"
     },
     "output_type": "display_data"
    },
    {
     "name": "stdout",
     "output_type": "stream",
     "text": [
      "average accuracy on training data: 0.957707806573957\n",
      "average accuracy on test data: 0.9263869132290186\n",
      "confidence_matrix on training data: [array([[0.        , 0.        , 0.        ],\n",
      "       [0.00196759, 0.00196759, 0.00149925],\n",
      "       [0.0109665 , 0.0104838 , 0.0109665 ]]), array([[0.        , 0.        , 0.        ],\n",
      "       [0.00196759, 0.00196759, 0.00149925],\n",
      "       [0.0109665 , 0.0104838 , 0.0109665 ]]), array([[0.        , 0.        , 0.        ],\n",
      "       [0.00196759, 0.00196759, 0.00149925],\n",
      "       [0.0109665 , 0.0104838 , 0.0109665 ]]), array([[0.        , 0.        , 0.        ],\n",
      "       [0.00196759, 0.00196759, 0.00149925],\n",
      "       [0.0109665 , 0.0104838 , 0.0109665 ]])]\n",
      "confidence_matrix on test data: [array([[0.        , 0.        , 0.        ],\n",
      "       [0.00196759, 0.00196759, 0.00149925],\n",
      "       [0.0109665 , 0.0104838 , 0.0109665 ]]), array([[0.        , 0.        , 0.        ],\n",
      "       [0.00196759, 0.00196759, 0.00149925],\n",
      "       [0.0109665 , 0.0104838 , 0.0109665 ]]), array([[0.        , 0.        , 0.        ],\n",
      "       [0.00196759, 0.00196759, 0.00149925],\n",
      "       [0.0109665 , 0.0104838 , 0.0109665 ]]), array([[0.        , 0.        , 0.        ],\n",
      "       [0.00196759, 0.00196759, 0.00149925],\n",
      "       [0.0109665 , 0.0104838 , 0.0109665 ]])]\n"
     ]
    }
   ],
   "source": [
    "accuracy_train=[]\n",
    "accuracy_test= []\n",
    "y_predict_train=[]\n",
    "y_predict_test=[]\n",
    "confidence_matrix_train=[]\n",
    "confidence_matrix_test=[]\n",
    "i=0\n",
    "for train,test in kf.split(X):\n",
    "    parameter=parameter_Gaussian_naive_Bayes(X.loc[train],Y.loc[train])\n",
    "    accuracy_tr,y_pre_tr,confidence_matrix=accuracy_Gaussian_naive_Bayes(X.loc[train].values,Y.loc[train],parameter)\n",
    "    confidence_matrix_train.append(confidence_matrix)\n",
    "    accuracy_train.append(accuracy_tr)\n",
    "    y_predict_train.append(y_pre_tr)\n",
    "    accuracy_te,y_pre_te,confidence_matrix=accuracy_Gaussian_naive_Bayes(X.loc[test].values,Y.loc[test],parameter)\n",
    "    confidence_matrix_test.append(confidence_matrix)\n",
    "    accuracy_test.append(accuracy_te)\n",
    "    y_predict_test.append(y_pre_te)\n",
    "    confusion_matrixx(Y.loc[test].values,y_predict_test[i])\n",
    "    i=i+1\n",
    "print('average accuracy on training data:',statistics.mean(accuracy_train))\n",
    "print('average accuracy on test data:',statistics.mean(accuracy_test))\n",
    "print('confidence_matrix on training data:',confidence_matrix_train)\n",
    "print('confidence_matrix on test data:',confidence_matrix_test)"
   ]
  },
  {
   "cell_type": "code",
   "execution_count": null,
   "id": "fca8cb1e",
   "metadata": {},
   "outputs": [],
   "source": []
  }
 ],
 "metadata": {
  "kernelspec": {
   "display_name": "Python 3",
   "language": "python",
   "name": "python3"
  },
  "language_info": {
   "codemirror_mode": {
    "name": "ipython",
    "version": 3
   },
   "file_extension": ".py",
   "mimetype": "text/x-python",
   "name": "python",
   "nbconvert_exporter": "python",
   "pygments_lexer": "ipython3",
   "version": "3.8.8"
  }
 },
 "nbformat": 4,
 "nbformat_minor": 5
}
